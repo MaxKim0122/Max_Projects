{
 "cells": [
  {
   "cell_type": "code",
   "execution_count": 207,
   "id": "54334280",
   "metadata": {},
   "outputs": [],
   "source": [
    "import numpy as np\n",
    "import pandas as pd\n",
    "import plotly.express as px\n",
    "import matplotlib.pyplot as plt\n",
    "import seaborn as sns\n",
    "\n",
    "from sklearn.preprocessing import LabelEncoder\n",
    "from sklearn.model_selection import train_test_split\n",
    "from sklearn.preprocessing import StandardScaler\n",
    "from sklearn.metrics import confusion_matrix, accuracy_score, precision_score, recall_score, f1_score\n",
    "from sklearn.svm import SVC\n",
    "from sklearn.linear_model import LogisticRegression\n",
    "from sklearn.ensemble import RandomForestClassifier\n",
    "from sklearn.neighbors import KNeighborsClassifier\n",
    "from sklearn.svm import SVC\n",
    "from imblearn.over_sampling import SMOTE"
   ]
  },
  {
   "cell_type": "markdown",
   "id": "1c095321",
   "metadata": {},
   "source": [
    "## IOD Mini Project2:\n",
    "\n",
    "# Aim: Predict customers who will potentially leave the service\n",
    "\n",
    "Find characteristics of customers who will stop the service. Find solutions and methods to retain customers.\n"
   ]
  },
  {
   "cell_type": "markdown",
   "id": "7ec2f6c9",
   "metadata": {},
   "source": [
    "Read the data"
   ]
  },
  {
   "cell_type": "code",
   "execution_count": 179,
   "id": "db210f6f",
   "metadata": {},
   "outputs": [
    {
     "data": {
      "text/html": [
       "<div>\n",
       "<style scoped>\n",
       "    .dataframe tbody tr th:only-of-type {\n",
       "        vertical-align: middle;\n",
       "    }\n",
       "\n",
       "    .dataframe tbody tr th {\n",
       "        vertical-align: top;\n",
       "    }\n",
       "\n",
       "    .dataframe thead th {\n",
       "        text-align: right;\n",
       "    }\n",
       "</style>\n",
       "<table border=\"1\" class=\"dataframe\">\n",
       "  <thead>\n",
       "    <tr style=\"text-align: right;\">\n",
       "      <th></th>\n",
       "      <th>customerID</th>\n",
       "      <th>gender</th>\n",
       "      <th>SeniorCitizen</th>\n",
       "      <th>Partner</th>\n",
       "      <th>Dependents</th>\n",
       "      <th>tenure</th>\n",
       "      <th>PhoneService</th>\n",
       "      <th>MultipleLines</th>\n",
       "      <th>InternetService</th>\n",
       "      <th>OnlineSecurity</th>\n",
       "      <th>OnlineBackup</th>\n",
       "      <th>DeviceProtection</th>\n",
       "      <th>TechSupport</th>\n",
       "      <th>StreamingTV</th>\n",
       "      <th>StreamingMovies</th>\n",
       "      <th>Contract</th>\n",
       "      <th>PaperlessBilling</th>\n",
       "      <th>PaymentMethod</th>\n",
       "      <th>MonthlyCharges</th>\n",
       "      <th>TotalCharges</th>\n",
       "      <th>Churn</th>\n",
       "    </tr>\n",
       "  </thead>\n",
       "  <tbody>\n",
       "    <tr>\n",
       "      <th>0</th>\n",
       "      <td>7590-VHVEG</td>\n",
       "      <td>Female</td>\n",
       "      <td>0</td>\n",
       "      <td>Yes</td>\n",
       "      <td>No</td>\n",
       "      <td>1</td>\n",
       "      <td>No</td>\n",
       "      <td>No phone service</td>\n",
       "      <td>DSL</td>\n",
       "      <td>No</td>\n",
       "      <td>Yes</td>\n",
       "      <td>No</td>\n",
       "      <td>No</td>\n",
       "      <td>No</td>\n",
       "      <td>No</td>\n",
       "      <td>Month-to-month</td>\n",
       "      <td>Yes</td>\n",
       "      <td>Electronic check</td>\n",
       "      <td>29.85</td>\n",
       "      <td>29.85</td>\n",
       "      <td>No</td>\n",
       "    </tr>\n",
       "    <tr>\n",
       "      <th>1</th>\n",
       "      <td>5575-GNVDE</td>\n",
       "      <td>Male</td>\n",
       "      <td>0</td>\n",
       "      <td>No</td>\n",
       "      <td>No</td>\n",
       "      <td>34</td>\n",
       "      <td>Yes</td>\n",
       "      <td>No</td>\n",
       "      <td>DSL</td>\n",
       "      <td>Yes</td>\n",
       "      <td>No</td>\n",
       "      <td>Yes</td>\n",
       "      <td>No</td>\n",
       "      <td>No</td>\n",
       "      <td>No</td>\n",
       "      <td>One year</td>\n",
       "      <td>No</td>\n",
       "      <td>Mailed check</td>\n",
       "      <td>56.95</td>\n",
       "      <td>1889.5</td>\n",
       "      <td>No</td>\n",
       "    </tr>\n",
       "    <tr>\n",
       "      <th>2</th>\n",
       "      <td>3668-QPYBK</td>\n",
       "      <td>Male</td>\n",
       "      <td>0</td>\n",
       "      <td>No</td>\n",
       "      <td>No</td>\n",
       "      <td>2</td>\n",
       "      <td>Yes</td>\n",
       "      <td>No</td>\n",
       "      <td>DSL</td>\n",
       "      <td>Yes</td>\n",
       "      <td>Yes</td>\n",
       "      <td>No</td>\n",
       "      <td>No</td>\n",
       "      <td>No</td>\n",
       "      <td>No</td>\n",
       "      <td>Month-to-month</td>\n",
       "      <td>Yes</td>\n",
       "      <td>Mailed check</td>\n",
       "      <td>53.85</td>\n",
       "      <td>108.15</td>\n",
       "      <td>Yes</td>\n",
       "    </tr>\n",
       "    <tr>\n",
       "      <th>3</th>\n",
       "      <td>7795-CFOCW</td>\n",
       "      <td>Male</td>\n",
       "      <td>0</td>\n",
       "      <td>No</td>\n",
       "      <td>No</td>\n",
       "      <td>45</td>\n",
       "      <td>No</td>\n",
       "      <td>No phone service</td>\n",
       "      <td>DSL</td>\n",
       "      <td>Yes</td>\n",
       "      <td>No</td>\n",
       "      <td>Yes</td>\n",
       "      <td>Yes</td>\n",
       "      <td>No</td>\n",
       "      <td>No</td>\n",
       "      <td>One year</td>\n",
       "      <td>No</td>\n",
       "      <td>Bank transfer (automatic)</td>\n",
       "      <td>42.30</td>\n",
       "      <td>1840.75</td>\n",
       "      <td>No</td>\n",
       "    </tr>\n",
       "    <tr>\n",
       "      <th>4</th>\n",
       "      <td>9237-HQITU</td>\n",
       "      <td>Female</td>\n",
       "      <td>0</td>\n",
       "      <td>No</td>\n",
       "      <td>No</td>\n",
       "      <td>2</td>\n",
       "      <td>Yes</td>\n",
       "      <td>No</td>\n",
       "      <td>Fiber optic</td>\n",
       "      <td>No</td>\n",
       "      <td>No</td>\n",
       "      <td>No</td>\n",
       "      <td>No</td>\n",
       "      <td>No</td>\n",
       "      <td>No</td>\n",
       "      <td>Month-to-month</td>\n",
       "      <td>Yes</td>\n",
       "      <td>Electronic check</td>\n",
       "      <td>70.70</td>\n",
       "      <td>151.65</td>\n",
       "      <td>Yes</td>\n",
       "    </tr>\n",
       "  </tbody>\n",
       "</table>\n",
       "</div>"
      ],
      "text/plain": [
       "   customerID  gender  SeniorCitizen Partner Dependents  tenure PhoneService  \\\n",
       "0  7590-VHVEG  Female              0     Yes         No       1           No   \n",
       "1  5575-GNVDE    Male              0      No         No      34          Yes   \n",
       "2  3668-QPYBK    Male              0      No         No       2          Yes   \n",
       "3  7795-CFOCW    Male              0      No         No      45           No   \n",
       "4  9237-HQITU  Female              0      No         No       2          Yes   \n",
       "\n",
       "      MultipleLines InternetService OnlineSecurity OnlineBackup  \\\n",
       "0  No phone service             DSL             No          Yes   \n",
       "1                No             DSL            Yes           No   \n",
       "2                No             DSL            Yes          Yes   \n",
       "3  No phone service             DSL            Yes           No   \n",
       "4                No     Fiber optic             No           No   \n",
       "\n",
       "  DeviceProtection TechSupport StreamingTV StreamingMovies        Contract  \\\n",
       "0               No          No          No              No  Month-to-month   \n",
       "1              Yes          No          No              No        One year   \n",
       "2               No          No          No              No  Month-to-month   \n",
       "3              Yes         Yes          No              No        One year   \n",
       "4               No          No          No              No  Month-to-month   \n",
       "\n",
       "  PaperlessBilling              PaymentMethod  MonthlyCharges TotalCharges  \\\n",
       "0              Yes           Electronic check           29.85        29.85   \n",
       "1               No               Mailed check           56.95       1889.5   \n",
       "2              Yes               Mailed check           53.85       108.15   \n",
       "3               No  Bank transfer (automatic)           42.30      1840.75   \n",
       "4              Yes           Electronic check           70.70       151.65   \n",
       "\n",
       "  Churn  \n",
       "0    No  \n",
       "1    No  \n",
       "2   Yes  \n",
       "3    No  \n",
       "4   Yes  "
      ]
     },
     "execution_count": 179,
     "metadata": {},
     "output_type": "execute_result"
    }
   ],
   "source": [
    "pd.set_option('display.max_columns',100)\n",
    "df =pd.read_csv(\"/Users/maxkim/Desktop/DS Camp/WA_Fn-UseC_-Telco-Customer-Churn.csv\")\n",
    "df.head()"
   ]
  },
  {
   "cell_type": "code",
   "execution_count": 180,
   "id": "13451cec",
   "metadata": {},
   "outputs": [
    {
     "name": "stdout",
     "output_type": "stream",
     "text": [
      "<class 'pandas.core.frame.DataFrame'>\n",
      "RangeIndex: 7043 entries, 0 to 7042\n",
      "Data columns (total 21 columns):\n",
      " #   Column            Non-Null Count  Dtype  \n",
      "---  ------            --------------  -----  \n",
      " 0   customerID        7043 non-null   object \n",
      " 1   gender            7043 non-null   object \n",
      " 2   SeniorCitizen     7043 non-null   int64  \n",
      " 3   Partner           7043 non-null   object \n",
      " 4   Dependents        7043 non-null   object \n",
      " 5   tenure            7043 non-null   int64  \n",
      " 6   PhoneService      7043 non-null   object \n",
      " 7   MultipleLines     7043 non-null   object \n",
      " 8   InternetService   7043 non-null   object \n",
      " 9   OnlineSecurity    7043 non-null   object \n",
      " 10  OnlineBackup      7043 non-null   object \n",
      " 11  DeviceProtection  7043 non-null   object \n",
      " 12  TechSupport       7043 non-null   object \n",
      " 13  StreamingTV       7043 non-null   object \n",
      " 14  StreamingMovies   7043 non-null   object \n",
      " 15  Contract          7043 non-null   object \n",
      " 16  PaperlessBilling  7043 non-null   object \n",
      " 17  PaymentMethod     7043 non-null   object \n",
      " 18  MonthlyCharges    7043 non-null   float64\n",
      " 19  TotalCharges      7043 non-null   object \n",
      " 20  Churn             7043 non-null   object \n",
      "dtypes: float64(1), int64(2), object(18)\n",
      "memory usage: 1.1+ MB\n"
     ]
    }
   ],
   "source": [
    "df.info()"
   ]
  },
  {
   "cell_type": "code",
   "execution_count": 181,
   "id": "1b68df2f",
   "metadata": {},
   "outputs": [],
   "source": [
    "# Convert 'TotalCharges' to numeric\n",
    "df['TotalCharges'] =pd.to_numeric(df['TotalCharges'], errors =\"coerce\")\n",
    "# Convert seniorcitizen as object\n",
    "df['SeniorCitizen'] = df['SeniorCitizen'].astype('object')"
   ]
  },
  {
   "cell_type": "code",
   "execution_count": 182,
   "id": "39f9274b",
   "metadata": {},
   "outputs": [
    {
     "data": {
      "text/plain": [
       "customerID           0\n",
       "gender               0\n",
       "SeniorCitizen        0\n",
       "Partner              0\n",
       "Dependents           0\n",
       "tenure               0\n",
       "PhoneService         0\n",
       "MultipleLines        0\n",
       "InternetService      0\n",
       "OnlineSecurity       0\n",
       "OnlineBackup         0\n",
       "DeviceProtection     0\n",
       "TechSupport          0\n",
       "StreamingTV          0\n",
       "StreamingMovies      0\n",
       "Contract             0\n",
       "PaperlessBilling     0\n",
       "PaymentMethod        0\n",
       "MonthlyCharges       0\n",
       "TotalCharges        11\n",
       "Churn                0\n",
       "dtype: int64"
      ]
     },
     "execution_count": 182,
     "metadata": {},
     "output_type": "execute_result"
    }
   ],
   "source": [
    "# Look for any missing value\n",
    "df.isnull().sum()"
   ]
  },
  {
   "cell_type": "code",
   "execution_count": 183,
   "id": "341eb938",
   "metadata": {
    "scrolled": false
   },
   "outputs": [
    {
     "data": {
      "text/html": [
       "<div>\n",
       "<style scoped>\n",
       "    .dataframe tbody tr th:only-of-type {\n",
       "        vertical-align: middle;\n",
       "    }\n",
       "\n",
       "    .dataframe tbody tr th {\n",
       "        vertical-align: top;\n",
       "    }\n",
       "\n",
       "    .dataframe thead th {\n",
       "        text-align: right;\n",
       "    }\n",
       "</style>\n",
       "<table border=\"1\" class=\"dataframe\">\n",
       "  <thead>\n",
       "    <tr style=\"text-align: right;\">\n",
       "      <th></th>\n",
       "      <th>customerID</th>\n",
       "      <th>gender</th>\n",
       "      <th>SeniorCitizen</th>\n",
       "      <th>Partner</th>\n",
       "      <th>Dependents</th>\n",
       "      <th>tenure</th>\n",
       "      <th>PhoneService</th>\n",
       "      <th>MultipleLines</th>\n",
       "      <th>InternetService</th>\n",
       "      <th>OnlineSecurity</th>\n",
       "      <th>OnlineBackup</th>\n",
       "      <th>DeviceProtection</th>\n",
       "      <th>TechSupport</th>\n",
       "      <th>StreamingTV</th>\n",
       "      <th>StreamingMovies</th>\n",
       "      <th>Contract</th>\n",
       "      <th>PaperlessBilling</th>\n",
       "      <th>PaymentMethod</th>\n",
       "      <th>MonthlyCharges</th>\n",
       "      <th>TotalCharges</th>\n",
       "      <th>Churn</th>\n",
       "    </tr>\n",
       "  </thead>\n",
       "  <tbody>\n",
       "    <tr>\n",
       "      <th>488</th>\n",
       "      <td>4472-LVYGI</td>\n",
       "      <td>Female</td>\n",
       "      <td>0</td>\n",
       "      <td>Yes</td>\n",
       "      <td>Yes</td>\n",
       "      <td>0</td>\n",
       "      <td>No</td>\n",
       "      <td>No phone service</td>\n",
       "      <td>DSL</td>\n",
       "      <td>Yes</td>\n",
       "      <td>No</td>\n",
       "      <td>Yes</td>\n",
       "      <td>Yes</td>\n",
       "      <td>Yes</td>\n",
       "      <td>No</td>\n",
       "      <td>Two year</td>\n",
       "      <td>Yes</td>\n",
       "      <td>Bank transfer (automatic)</td>\n",
       "      <td>52.55</td>\n",
       "      <td>NaN</td>\n",
       "      <td>No</td>\n",
       "    </tr>\n",
       "    <tr>\n",
       "      <th>753</th>\n",
       "      <td>3115-CZMZD</td>\n",
       "      <td>Male</td>\n",
       "      <td>0</td>\n",
       "      <td>No</td>\n",
       "      <td>Yes</td>\n",
       "      <td>0</td>\n",
       "      <td>Yes</td>\n",
       "      <td>No</td>\n",
       "      <td>No</td>\n",
       "      <td>No internet service</td>\n",
       "      <td>No internet service</td>\n",
       "      <td>No internet service</td>\n",
       "      <td>No internet service</td>\n",
       "      <td>No internet service</td>\n",
       "      <td>No internet service</td>\n",
       "      <td>Two year</td>\n",
       "      <td>No</td>\n",
       "      <td>Mailed check</td>\n",
       "      <td>20.25</td>\n",
       "      <td>NaN</td>\n",
       "      <td>No</td>\n",
       "    </tr>\n",
       "    <tr>\n",
       "      <th>936</th>\n",
       "      <td>5709-LVOEQ</td>\n",
       "      <td>Female</td>\n",
       "      <td>0</td>\n",
       "      <td>Yes</td>\n",
       "      <td>Yes</td>\n",
       "      <td>0</td>\n",
       "      <td>Yes</td>\n",
       "      <td>No</td>\n",
       "      <td>DSL</td>\n",
       "      <td>Yes</td>\n",
       "      <td>Yes</td>\n",
       "      <td>Yes</td>\n",
       "      <td>No</td>\n",
       "      <td>Yes</td>\n",
       "      <td>Yes</td>\n",
       "      <td>Two year</td>\n",
       "      <td>No</td>\n",
       "      <td>Mailed check</td>\n",
       "      <td>80.85</td>\n",
       "      <td>NaN</td>\n",
       "      <td>No</td>\n",
       "    </tr>\n",
       "    <tr>\n",
       "      <th>1082</th>\n",
       "      <td>4367-NUYAO</td>\n",
       "      <td>Male</td>\n",
       "      <td>0</td>\n",
       "      <td>Yes</td>\n",
       "      <td>Yes</td>\n",
       "      <td>0</td>\n",
       "      <td>Yes</td>\n",
       "      <td>Yes</td>\n",
       "      <td>No</td>\n",
       "      <td>No internet service</td>\n",
       "      <td>No internet service</td>\n",
       "      <td>No internet service</td>\n",
       "      <td>No internet service</td>\n",
       "      <td>No internet service</td>\n",
       "      <td>No internet service</td>\n",
       "      <td>Two year</td>\n",
       "      <td>No</td>\n",
       "      <td>Mailed check</td>\n",
       "      <td>25.75</td>\n",
       "      <td>NaN</td>\n",
       "      <td>No</td>\n",
       "    </tr>\n",
       "    <tr>\n",
       "      <th>1340</th>\n",
       "      <td>1371-DWPAZ</td>\n",
       "      <td>Female</td>\n",
       "      <td>0</td>\n",
       "      <td>Yes</td>\n",
       "      <td>Yes</td>\n",
       "      <td>0</td>\n",
       "      <td>No</td>\n",
       "      <td>No phone service</td>\n",
       "      <td>DSL</td>\n",
       "      <td>Yes</td>\n",
       "      <td>Yes</td>\n",
       "      <td>Yes</td>\n",
       "      <td>Yes</td>\n",
       "      <td>Yes</td>\n",
       "      <td>No</td>\n",
       "      <td>Two year</td>\n",
       "      <td>No</td>\n",
       "      <td>Credit card (automatic)</td>\n",
       "      <td>56.05</td>\n",
       "      <td>NaN</td>\n",
       "      <td>No</td>\n",
       "    </tr>\n",
       "    <tr>\n",
       "      <th>3331</th>\n",
       "      <td>7644-OMVMY</td>\n",
       "      <td>Male</td>\n",
       "      <td>0</td>\n",
       "      <td>Yes</td>\n",
       "      <td>Yes</td>\n",
       "      <td>0</td>\n",
       "      <td>Yes</td>\n",
       "      <td>No</td>\n",
       "      <td>No</td>\n",
       "      <td>No internet service</td>\n",
       "      <td>No internet service</td>\n",
       "      <td>No internet service</td>\n",
       "      <td>No internet service</td>\n",
       "      <td>No internet service</td>\n",
       "      <td>No internet service</td>\n",
       "      <td>Two year</td>\n",
       "      <td>No</td>\n",
       "      <td>Mailed check</td>\n",
       "      <td>19.85</td>\n",
       "      <td>NaN</td>\n",
       "      <td>No</td>\n",
       "    </tr>\n",
       "    <tr>\n",
       "      <th>3826</th>\n",
       "      <td>3213-VVOLG</td>\n",
       "      <td>Male</td>\n",
       "      <td>0</td>\n",
       "      <td>Yes</td>\n",
       "      <td>Yes</td>\n",
       "      <td>0</td>\n",
       "      <td>Yes</td>\n",
       "      <td>Yes</td>\n",
       "      <td>No</td>\n",
       "      <td>No internet service</td>\n",
       "      <td>No internet service</td>\n",
       "      <td>No internet service</td>\n",
       "      <td>No internet service</td>\n",
       "      <td>No internet service</td>\n",
       "      <td>No internet service</td>\n",
       "      <td>Two year</td>\n",
       "      <td>No</td>\n",
       "      <td>Mailed check</td>\n",
       "      <td>25.35</td>\n",
       "      <td>NaN</td>\n",
       "      <td>No</td>\n",
       "    </tr>\n",
       "    <tr>\n",
       "      <th>4380</th>\n",
       "      <td>2520-SGTTA</td>\n",
       "      <td>Female</td>\n",
       "      <td>0</td>\n",
       "      <td>Yes</td>\n",
       "      <td>Yes</td>\n",
       "      <td>0</td>\n",
       "      <td>Yes</td>\n",
       "      <td>No</td>\n",
       "      <td>No</td>\n",
       "      <td>No internet service</td>\n",
       "      <td>No internet service</td>\n",
       "      <td>No internet service</td>\n",
       "      <td>No internet service</td>\n",
       "      <td>No internet service</td>\n",
       "      <td>No internet service</td>\n",
       "      <td>Two year</td>\n",
       "      <td>No</td>\n",
       "      <td>Mailed check</td>\n",
       "      <td>20.00</td>\n",
       "      <td>NaN</td>\n",
       "      <td>No</td>\n",
       "    </tr>\n",
       "    <tr>\n",
       "      <th>5218</th>\n",
       "      <td>2923-ARZLG</td>\n",
       "      <td>Male</td>\n",
       "      <td>0</td>\n",
       "      <td>Yes</td>\n",
       "      <td>Yes</td>\n",
       "      <td>0</td>\n",
       "      <td>Yes</td>\n",
       "      <td>No</td>\n",
       "      <td>No</td>\n",
       "      <td>No internet service</td>\n",
       "      <td>No internet service</td>\n",
       "      <td>No internet service</td>\n",
       "      <td>No internet service</td>\n",
       "      <td>No internet service</td>\n",
       "      <td>No internet service</td>\n",
       "      <td>One year</td>\n",
       "      <td>Yes</td>\n",
       "      <td>Mailed check</td>\n",
       "      <td>19.70</td>\n",
       "      <td>NaN</td>\n",
       "      <td>No</td>\n",
       "    </tr>\n",
       "    <tr>\n",
       "      <th>6670</th>\n",
       "      <td>4075-WKNIU</td>\n",
       "      <td>Female</td>\n",
       "      <td>0</td>\n",
       "      <td>Yes</td>\n",
       "      <td>Yes</td>\n",
       "      <td>0</td>\n",
       "      <td>Yes</td>\n",
       "      <td>Yes</td>\n",
       "      <td>DSL</td>\n",
       "      <td>No</td>\n",
       "      <td>Yes</td>\n",
       "      <td>Yes</td>\n",
       "      <td>Yes</td>\n",
       "      <td>Yes</td>\n",
       "      <td>No</td>\n",
       "      <td>Two year</td>\n",
       "      <td>No</td>\n",
       "      <td>Mailed check</td>\n",
       "      <td>73.35</td>\n",
       "      <td>NaN</td>\n",
       "      <td>No</td>\n",
       "    </tr>\n",
       "    <tr>\n",
       "      <th>6754</th>\n",
       "      <td>2775-SEFEE</td>\n",
       "      <td>Male</td>\n",
       "      <td>0</td>\n",
       "      <td>No</td>\n",
       "      <td>Yes</td>\n",
       "      <td>0</td>\n",
       "      <td>Yes</td>\n",
       "      <td>Yes</td>\n",
       "      <td>DSL</td>\n",
       "      <td>Yes</td>\n",
       "      <td>Yes</td>\n",
       "      <td>No</td>\n",
       "      <td>Yes</td>\n",
       "      <td>No</td>\n",
       "      <td>No</td>\n",
       "      <td>Two year</td>\n",
       "      <td>Yes</td>\n",
       "      <td>Bank transfer (automatic)</td>\n",
       "      <td>61.90</td>\n",
       "      <td>NaN</td>\n",
       "      <td>No</td>\n",
       "    </tr>\n",
       "  </tbody>\n",
       "</table>\n",
       "</div>"
      ],
      "text/plain": [
       "      customerID  gender SeniorCitizen Partner Dependents  tenure  \\\n",
       "488   4472-LVYGI  Female             0     Yes        Yes       0   \n",
       "753   3115-CZMZD    Male             0      No        Yes       0   \n",
       "936   5709-LVOEQ  Female             0     Yes        Yes       0   \n",
       "1082  4367-NUYAO    Male             0     Yes        Yes       0   \n",
       "1340  1371-DWPAZ  Female             0     Yes        Yes       0   \n",
       "3331  7644-OMVMY    Male             0     Yes        Yes       0   \n",
       "3826  3213-VVOLG    Male             0     Yes        Yes       0   \n",
       "4380  2520-SGTTA  Female             0     Yes        Yes       0   \n",
       "5218  2923-ARZLG    Male             0     Yes        Yes       0   \n",
       "6670  4075-WKNIU  Female             0     Yes        Yes       0   \n",
       "6754  2775-SEFEE    Male             0      No        Yes       0   \n",
       "\n",
       "     PhoneService     MultipleLines InternetService       OnlineSecurity  \\\n",
       "488            No  No phone service             DSL                  Yes   \n",
       "753           Yes                No              No  No internet service   \n",
       "936           Yes                No             DSL                  Yes   \n",
       "1082          Yes               Yes              No  No internet service   \n",
       "1340           No  No phone service             DSL                  Yes   \n",
       "3331          Yes                No              No  No internet service   \n",
       "3826          Yes               Yes              No  No internet service   \n",
       "4380          Yes                No              No  No internet service   \n",
       "5218          Yes                No              No  No internet service   \n",
       "6670          Yes               Yes             DSL                   No   \n",
       "6754          Yes               Yes             DSL                  Yes   \n",
       "\n",
       "             OnlineBackup     DeviceProtection          TechSupport  \\\n",
       "488                    No                  Yes                  Yes   \n",
       "753   No internet service  No internet service  No internet service   \n",
       "936                   Yes                  Yes                   No   \n",
       "1082  No internet service  No internet service  No internet service   \n",
       "1340                  Yes                  Yes                  Yes   \n",
       "3331  No internet service  No internet service  No internet service   \n",
       "3826  No internet service  No internet service  No internet service   \n",
       "4380  No internet service  No internet service  No internet service   \n",
       "5218  No internet service  No internet service  No internet service   \n",
       "6670                  Yes                  Yes                  Yes   \n",
       "6754                  Yes                   No                  Yes   \n",
       "\n",
       "              StreamingTV      StreamingMovies  Contract PaperlessBilling  \\\n",
       "488                   Yes                   No  Two year              Yes   \n",
       "753   No internet service  No internet service  Two year               No   \n",
       "936                   Yes                  Yes  Two year               No   \n",
       "1082  No internet service  No internet service  Two year               No   \n",
       "1340                  Yes                   No  Two year               No   \n",
       "3331  No internet service  No internet service  Two year               No   \n",
       "3826  No internet service  No internet service  Two year               No   \n",
       "4380  No internet service  No internet service  Two year               No   \n",
       "5218  No internet service  No internet service  One year              Yes   \n",
       "6670                  Yes                   No  Two year               No   \n",
       "6754                   No                   No  Two year              Yes   \n",
       "\n",
       "                  PaymentMethod  MonthlyCharges  TotalCharges Churn  \n",
       "488   Bank transfer (automatic)           52.55           NaN    No  \n",
       "753                Mailed check           20.25           NaN    No  \n",
       "936                Mailed check           80.85           NaN    No  \n",
       "1082               Mailed check           25.75           NaN    No  \n",
       "1340    Credit card (automatic)           56.05           NaN    No  \n",
       "3331               Mailed check           19.85           NaN    No  \n",
       "3826               Mailed check           25.35           NaN    No  \n",
       "4380               Mailed check           20.00           NaN    No  \n",
       "5218               Mailed check           19.70           NaN    No  \n",
       "6670               Mailed check           73.35           NaN    No  \n",
       "6754  Bank transfer (automatic)           61.90           NaN    No  "
      ]
     },
     "execution_count": 183,
     "metadata": {},
     "output_type": "execute_result"
    }
   ],
   "source": [
    "# List of 11 missing values\n",
    "df[np.isnan(df['TotalCharges'])]"
   ]
  },
  {
   "cell_type": "markdown",
   "id": "9a93c25f",
   "metadata": {},
   "source": [
    "These 11 values has tenure of 0. Meaning they are newly joining. For this prediction, I will drop those 11 rows"
   ]
  },
  {
   "cell_type": "code",
   "execution_count": 184,
   "id": "388d63ff",
   "metadata": {},
   "outputs": [],
   "source": [
    "# Remove isnull values\n",
    "df.dropna(inplace =True)\n",
    "# Remove irrelevant columns from the data\n",
    "df2 =df.drop(labels='customerID', axis=1)"
   ]
  },
  {
   "cell_type": "code",
   "execution_count": 185,
   "id": "5272cb86",
   "metadata": {},
   "outputs": [
    {
     "name": "stdout",
     "output_type": "stream",
     "text": [
      "gender : ['Female' 'Male']\n",
      "SeniorCitizen : [0 1]\n",
      "Partner : ['Yes' 'No']\n",
      "Dependents : ['No' 'Yes']\n",
      "PhoneService : ['No' 'Yes']\n",
      "MultipleLines : ['No phone service' 'No' 'Yes']\n",
      "InternetService : ['DSL' 'Fiber optic' 'No']\n",
      "OnlineSecurity : ['No' 'Yes' 'No internet service']\n",
      "OnlineBackup : ['Yes' 'No' 'No internet service']\n",
      "DeviceProtection : ['No' 'Yes' 'No internet service']\n",
      "TechSupport : ['No' 'Yes' 'No internet service']\n",
      "StreamingTV : ['No' 'Yes' 'No internet service']\n",
      "StreamingMovies : ['No' 'Yes' 'No internet service']\n",
      "Contract : ['Month-to-month' 'One year' 'Two year']\n",
      "PaperlessBilling : ['Yes' 'No']\n",
      "PaymentMethod : ['Electronic check' 'Mailed check' 'Bank transfer (automatic)'\n",
      " 'Credit card (automatic)']\n",
      "Churn : ['No' 'Yes']\n"
     ]
    }
   ],
   "source": [
    "# Check categorical variables\n",
    "df2.dtypes=='object'\n",
    "cat_var=[i for i in df2.columns if df2[i].dtypes=='object']\n",
    "for z in cat_var:\n",
    "    print(df2[z].name,':',df2[z].unique())"
   ]
  },
  {
   "cell_type": "code",
   "execution_count": 186,
   "id": "a1a3938e",
   "metadata": {},
   "outputs": [],
   "source": [
    "# Change duplicate features\n",
    "dup_features =['OnlineSecurity', 'OnlineBackup', 'DeviceProtection', 'TechSupport', 'StreamingTV', 'StreamingMovies']\n",
    "for i in dup_features:\n",
    "    df2[i] =df2[i].apply(lambda x: 'No' if x =='No internet service' else x)\n",
    "df2.MultipleLines =df.MultipleLines.apply(lambda x: 'No' if x =='No phone service' else x)"
   ]
  },
  {
   "cell_type": "code",
   "execution_count": 187,
   "id": "d9588b5f",
   "metadata": {
    "scrolled": true
   },
   "outputs": [
    {
     "name": "stdout",
     "output_type": "stream",
     "text": [
      "gender : ['Female' 'Male']\n",
      "SeniorCitizen : [0 1]\n",
      "Partner : ['Yes' 'No']\n",
      "Dependents : ['No' 'Yes']\n",
      "PhoneService : ['No' 'Yes']\n",
      "MultipleLines : ['No' 'Yes']\n",
      "InternetService : ['DSL' 'Fiber optic' 'No']\n",
      "OnlineSecurity : ['No' 'Yes']\n",
      "OnlineBackup : ['Yes' 'No']\n",
      "DeviceProtection : ['No' 'Yes']\n",
      "TechSupport : ['No' 'Yes']\n",
      "StreamingTV : ['No' 'Yes']\n",
      "StreamingMovies : ['No' 'Yes']\n",
      "Contract : ['Month-to-month' 'One year' 'Two year']\n",
      "PaperlessBilling : ['Yes' 'No']\n",
      "PaymentMethod : ['Electronic check' 'Mailed check' 'Bank transfer (automatic)'\n",
      " 'Credit card (automatic)']\n",
      "Churn : ['No' 'Yes']\n"
     ]
    }
   ],
   "source": [
    "for z in [i for i in df2.columns if df2[i].dtypes =='object']:\n",
    "    print(df2[z].name, ':', df2[z].unique())"
   ]
  },
  {
   "cell_type": "markdown",
   "id": "b7cdf15f",
   "metadata": {},
   "source": [
    "EDA"
   ]
  },
  {
   "cell_type": "code",
   "execution_count": 188,
   "id": "9bdf0476",
   "metadata": {
    "scrolled": true
   },
   "outputs": [
    {
     "data": {
      "image/png": "[encoded data removed]",
      "text/plain": [
       "<Figure size 1440x360 with 3 Axes>"
      ]
     },
     "metadata": {
      "needs_background": "light"
     },
     "output_type": "display_data"
    }
   ],
   "source": [
    "# For visualization, change 'SeniorCitizen' to show as Yes/No\n",
    "df2.SeniorCitizen= df2.SeniorCitizen.apply(lambda x : 'No' if x == 0 else 'Yes')\n",
    "\n",
    "# Continuous Variables\n",
    "continues_var=[i for i in df2.columns if df2[i].dtypes !='object']\n",
    "fig,ax = plt.subplots(1,3,figsize=(20,5))\n",
    "for i,x in enumerate(continues_var):\n",
    "    ax[i].hist(df2[x][df2.Churn=='No'],label='Churn=0',bins=30)\n",
    "    ax[i].hist(df2[x][df2.Churn=='Yes'],label='Churn=1',bins=30)\n",
    "    ax[i].set(xlabel=x,ylabel='count')\n",
    "    ax[i].legend()"
   ]
  },
  {
   "cell_type": "markdown",
   "id": "88173934",
   "metadata": {},
   "source": [
    "Churn vs Tenure\n",
    "We can see that the longer the subscription, higher to continue their subscription. \n",
    "People who are discontinuing their subscription tends to have shorter tenure.\n",
    "\n",
    "Churn vs MonthlyCharges\n",
    "Customers who discontinuing their subscription tends to pay higher amount for monthly charges.\n",
    "Customers who are continuing their subscription tends to have relatively cheaper monthly cost\n",
    "\n",
    "Churn vs TotalCharges\n",
    "Even customers who discontinue the subscription pay more monthly, customers who are stay on end up paying higher amounts of total charges."
   ]
  },
  {
   "cell_type": "markdown",
   "id": "3fefaa61",
   "metadata": {},
   "source": [
    "For categorical, we want to see for people who are stopping their subscription"
   ]
  },
  {
   "cell_type": "code",
   "execution_count": 189,
   "id": "6bf55327",
   "metadata": {
    "scrolled": false
   },
   "outputs": [
    {
     "data": {
      "image/png": "[encoded data removed]",
      "text/plain": [
       "<Figure size 1440x1440 with 16 Axes>"
      ]
     },
     "metadata": {
      "needs_background": "light"
     },
     "output_type": "display_data"
    }
   ],
   "source": [
    "categorical_var=cat_var[:-1]\n",
    "#Count Plot all Categorical Variables\n",
    "fig,ax = plt.subplots(4,4,figsize=(20,20))\n",
    "for axi,var in zip(ax.flat,categorical_var):\n",
    "    sns.countplot(x=df2.Churn,hue=df[var],ax=axi)"
   ]
  },
  {
   "cell_type": "markdown",
   "id": "22f4f705",
   "metadata": {},
   "source": [
    "Conclusion with categorical information analysis:\n",
    "1. Mostly non-senior citizens are stop the subscription.\n",
    "2. Prefer month-to-month contract with paperless billing\n",
    "3. People who stop the subscription tends to not sign for any additional services such as tech support, device protection, online backup, online security...\n",
    "4. Mostly using Fiber optic internet service"
   ]
  },
  {
   "cell_type": "code",
   "execution_count": 206,
   "id": "ac8ec6bf",
   "metadata": {
    "scrolled": false
   },
   "outputs": [
    {
     "data": {
      "text/plain": [
       "[['gender', array([0, 1])],\n",
       " ['SeniorCitizen', array([0, 1])],\n",
       " ['Partner', array([1, 0])],\n",
       " ['Dependents', array([0, 1])],\n",
       " ['PhoneService', array([0, 1])],\n",
       " ['MultipleLines', array([1, 0, 2])],\n",
       " ['OnlineSecurity', array([0, 2, 1])],\n",
       " ['OnlineBackup', array([2, 0, 1])],\n",
       " ['DeviceProtection', array([0, 2, 1])],\n",
       " ['TechSupport', array([0, 2, 1])],\n",
       " ['StreamingTV', array([0, 2, 1])],\n",
       " ['StreamingMovies', array([0, 2, 1])],\n",
       " ['PaperlessBilling', array([1, 0])],\n",
       " ['Churn', array([0, 1])],\n",
       " ['InternetService_Fiber optic', array([0, 1], dtype=uint8)],\n",
       " ['InternetService_No', array([0, 1], dtype=uint8)],\n",
       " ['Contract_One year', array([0, 1], dtype=uint8)],\n",
       " ['Contract_Two year', array([0, 1], dtype=uint8)],\n",
       " ['PaymentMethod_Credit card (automatic)', array([0, 1], dtype=uint8)],\n",
       " ['PaymentMethod_Electronic check', array([1, 0], dtype=uint8)],\n",
       " ['PaymentMethod_Mailed check', array([0, 1], dtype=uint8)]]"
      ]
     },
     "execution_count": 206,
     "metadata": {},
     "output_type": "execute_result"
    }
   ],
   "source": [
    "# 2-class cateogorical convert to 1 & 0\n",
    "label_encoder = LabelEncoder()\n",
    "for x in [i for i in df2.columns if len(df2[i].unique())==2]:\n",
    "    df2[x]= label_encoder.fit_transform(df[x])\n",
    "    \n",
    "# 3+ class cateogorical convert using dummy variables\n",
    "df3 = pd.get_dummies(df2, columns= [i for i in df2.columns if df2[i].dtypes=='object'],drop_first=True)\n",
    "\n",
    "# Check\n",
    "[[x, df3[x].unique()] for x in [i for i in df3.columns if len(df3[i].unique())<10]]"
   ]
  },
  {
   "cell_type": "code",
   "execution_count": 191,
   "id": "9ad45c0a",
   "metadata": {},
   "outputs": [],
   "source": [
    "X =df3.drop('Churn', axis =1)\n",
    "y =df3.Churn"
   ]
  },
  {
   "cell_type": "code",
   "execution_count": 192,
   "id": "439f3ee0",
   "metadata": {},
   "outputs": [
    {
     "name": "stdout",
     "output_type": "stream",
     "text": [
      "X train size:  5625\n",
      "X test size:  1407\n",
      "y train size:  5625\n",
      "y test size:  1407\n"
     ]
    }
   ],
   "source": [
    "#Splitting data into train and test sets\n",
    "X_train, X_test, y_train, y_test = train_test_split(X,y, test_size = 0.2, random_state = 1)\n",
    "print('X train size: ', len(X_train))\n",
    "print('X test size: ', len(X_test))\n",
    "print('y train size: ', len(y_train))\n",
    "print('y test size: ', len(y_test))"
   ]
  },
  {
   "cell_type": "code",
   "execution_count": 212,
   "id": "b39684bb",
   "metadata": {
    "scrolled": true
   },
   "outputs": [
    {
     "data": {
      "text/html": [
       "<div>\n",
       "<style scoped>\n",
       "    .dataframe tbody tr th:only-of-type {\n",
       "        vertical-align: middle;\n",
       "    }\n",
       "\n",
       "    .dataframe tbody tr th {\n",
       "        vertical-align: top;\n",
       "    }\n",
       "\n",
       "    .dataframe thead th {\n",
       "        text-align: right;\n",
       "    }\n",
       "</style>\n",
       "<table border=\"1\" class=\"dataframe\">\n",
       "  <thead>\n",
       "    <tr style=\"text-align: right;\">\n",
       "      <th></th>\n",
       "      <th>gender</th>\n",
       "      <th>SeniorCitizen</th>\n",
       "      <th>Partner</th>\n",
       "      <th>Dependents</th>\n",
       "      <th>tenure</th>\n",
       "      <th>PhoneService</th>\n",
       "      <th>MultipleLines</th>\n",
       "      <th>OnlineSecurity</th>\n",
       "      <th>OnlineBackup</th>\n",
       "      <th>DeviceProtection</th>\n",
       "      <th>TechSupport</th>\n",
       "      <th>StreamingTV</th>\n",
       "      <th>StreamingMovies</th>\n",
       "      <th>PaperlessBilling</th>\n",
       "      <th>MonthlyCharges</th>\n",
       "      <th>TotalCharges</th>\n",
       "      <th>InternetService_Fiber optic</th>\n",
       "      <th>InternetService_No</th>\n",
       "      <th>Contract_One year</th>\n",
       "      <th>Contract_Two year</th>\n",
       "      <th>PaymentMethod_Credit card (automatic)</th>\n",
       "      <th>PaymentMethod_Electronic check</th>\n",
       "      <th>PaymentMethod_Mailed check</th>\n",
       "    </tr>\n",
       "  </thead>\n",
       "  <tbody>\n",
       "    <tr>\n",
       "      <th>0</th>\n",
       "      <td>-1.015848</td>\n",
       "      <td>-0.487746</td>\n",
       "      <td>-0.891250</td>\n",
       "      <td>-0.593056</td>\n",
       "      <td>-1.103362</td>\n",
       "      <td>0.317072</td>\n",
       "      <td>-1.026524</td>\n",
       "      <td>0.429348</td>\n",
       "      <td>0.217927</td>\n",
       "      <td>0.207505</td>\n",
       "      <td>0.394392</td>\n",
       "      <td>0.045949</td>\n",
       "      <td>0.038392</td>\n",
       "      <td>0.754556</td>\n",
       "      <td>-1.671063</td>\n",
       "      <td>-0.919356</td>\n",
       "      <td>-1.050698</td>\n",
       "      <td>2.233086</td>\n",
       "      <td>-0.459396</td>\n",
       "      <td>-0.453387</td>\n",
       "      <td>-0.486164</td>\n",
       "      <td>-0.847198</td>\n",
       "      <td>1.943633</td>\n",
       "    </tr>\n",
       "    <tr>\n",
       "      <th>1</th>\n",
       "      <td>1.027207</td>\n",
       "      <td>-0.487746</td>\n",
       "      <td>-0.891250</td>\n",
       "      <td>1.725935</td>\n",
       "      <td>1.623228</td>\n",
       "      <td>0.317072</td>\n",
       "      <td>-1.026524</td>\n",
       "      <td>0.429348</td>\n",
       "      <td>0.217927</td>\n",
       "      <td>0.207505</td>\n",
       "      <td>0.394392</td>\n",
       "      <td>0.045949</td>\n",
       "      <td>0.038392</td>\n",
       "      <td>-1.366589</td>\n",
       "      <td>-1.634750</td>\n",
       "      <td>-0.304831</td>\n",
       "      <td>-1.050698</td>\n",
       "      <td>2.233086</td>\n",
       "      <td>-0.459396</td>\n",
       "      <td>2.216427</td>\n",
       "      <td>-0.486164</td>\n",
       "      <td>-0.847198</td>\n",
       "      <td>1.943633</td>\n",
       "    </tr>\n",
       "    <tr>\n",
       "      <th>2</th>\n",
       "      <td>1.027207</td>\n",
       "      <td>-0.487746</td>\n",
       "      <td>1.154306</td>\n",
       "      <td>1.725935</td>\n",
       "      <td>1.832966</td>\n",
       "      <td>0.317072</td>\n",
       "      <td>1.098466</td>\n",
       "      <td>1.634144</td>\n",
       "      <td>1.351571</td>\n",
       "      <td>1.337587</td>\n",
       "      <td>1.584316</td>\n",
       "      <td>1.150398</td>\n",
       "      <td>1.142270</td>\n",
       "      <td>-1.366589</td>\n",
       "      <td>0.780946</td>\n",
       "      <td>2.135145</td>\n",
       "      <td>-1.050698</td>\n",
       "      <td>-0.447933</td>\n",
       "      <td>-0.459396</td>\n",
       "      <td>2.216427</td>\n",
       "      <td>-0.486164</td>\n",
       "      <td>1.206295</td>\n",
       "      <td>-0.519526</td>\n",
       "    </tr>\n",
       "    <tr>\n",
       "      <th>3</th>\n",
       "      <td>-1.015848</td>\n",
       "      <td>-0.487746</td>\n",
       "      <td>1.154306</td>\n",
       "      <td>-0.593056</td>\n",
       "      <td>1.874914</td>\n",
       "      <td>0.317072</td>\n",
       "      <td>1.098466</td>\n",
       "      <td>1.634144</td>\n",
       "      <td>1.351571</td>\n",
       "      <td>1.337587</td>\n",
       "      <td>-0.795532</td>\n",
       "      <td>1.150398</td>\n",
       "      <td>-1.065487</td>\n",
       "      <td>-1.366589</td>\n",
       "      <td>1.135432</td>\n",
       "      <td>2.441122</td>\n",
       "      <td>0.959682</td>\n",
       "      <td>-0.447933</td>\n",
       "      <td>-0.459396</td>\n",
       "      <td>2.216427</td>\n",
       "      <td>-0.486164</td>\n",
       "      <td>-0.847198</td>\n",
       "      <td>-0.519526</td>\n",
       "    </tr>\n",
       "    <tr>\n",
       "      <th>4</th>\n",
       "      <td>1.027207</td>\n",
       "      <td>-0.487746</td>\n",
       "      <td>-0.891250</td>\n",
       "      <td>-0.593056</td>\n",
       "      <td>-1.103362</td>\n",
       "      <td>0.317072</td>\n",
       "      <td>-1.026524</td>\n",
       "      <td>-0.775448</td>\n",
       "      <td>-0.915717</td>\n",
       "      <td>-0.922577</td>\n",
       "      <td>-0.795532</td>\n",
       "      <td>-1.058501</td>\n",
       "      <td>-1.065487</td>\n",
       "      <td>0.754556</td>\n",
       "      <td>-0.759774</td>\n",
       "      <td>-0.907250</td>\n",
       "      <td>-1.050698</td>\n",
       "      <td>-0.447933</td>\n",
       "      <td>-0.459396</td>\n",
       "      <td>-0.453387</td>\n",
       "      <td>-0.486164</td>\n",
       "      <td>-0.847198</td>\n",
       "      <td>1.943633</td>\n",
       "    </tr>\n",
       "  </tbody>\n",
       "</table>\n",
       "</div>"
      ],
      "text/plain": [
       "     gender  SeniorCitizen   Partner  Dependents    tenure  PhoneService  \\\n",
       "0 -1.015848      -0.487746 -0.891250   -0.593056 -1.103362      0.317072   \n",
       "1  1.027207      -0.487746 -0.891250    1.725935  1.623228      0.317072   \n",
       "2  1.027207      -0.487746  1.154306    1.725935  1.832966      0.317072   \n",
       "3 -1.015848      -0.487746  1.154306   -0.593056  1.874914      0.317072   \n",
       "4  1.027207      -0.487746 -0.891250   -0.593056 -1.103362      0.317072   \n",
       "\n",
       "   MultipleLines  OnlineSecurity  OnlineBackup  DeviceProtection  TechSupport  \\\n",
       "0      -1.026524        0.429348      0.217927          0.207505     0.394392   \n",
       "1      -1.026524        0.429348      0.217927          0.207505     0.394392   \n",
       "2       1.098466        1.634144      1.351571          1.337587     1.584316   \n",
       "3       1.098466        1.634144      1.351571          1.337587    -0.795532   \n",
       "4      -1.026524       -0.775448     -0.915717         -0.922577    -0.795532   \n",
       "\n",
       "   StreamingTV  StreamingMovies  PaperlessBilling  MonthlyCharges  \\\n",
       "0     0.045949         0.038392          0.754556       -1.671063   \n",
       "1     0.045949         0.038392         -1.366589       -1.634750   \n",
       "2     1.150398         1.142270         -1.366589        0.780946   \n",
       "3     1.150398        -1.065487         -1.366589        1.135432   \n",
       "4    -1.058501        -1.065487          0.754556       -0.759774   \n",
       "\n",
       "   TotalCharges  InternetService_Fiber optic  InternetService_No  \\\n",
       "0     -0.919356                    -1.050698            2.233086   \n",
       "1     -0.304831                    -1.050698            2.233086   \n",
       "2      2.135145                    -1.050698           -0.447933   \n",
       "3      2.441122                     0.959682           -0.447933   \n",
       "4     -0.907250                    -1.050698           -0.447933   \n",
       "\n",
       "   Contract_One year  Contract_Two year  \\\n",
       "0          -0.459396          -0.453387   \n",
       "1          -0.459396           2.216427   \n",
       "2          -0.459396           2.216427   \n",
       "3          -0.459396           2.216427   \n",
       "4          -0.459396          -0.453387   \n",
       "\n",
       "   PaymentMethod_Credit card (automatic)  PaymentMethod_Electronic check  \\\n",
       "0                              -0.486164                       -0.847198   \n",
       "1                              -0.486164                       -0.847198   \n",
       "2                              -0.486164                        1.206295   \n",
       "3                              -0.486164                       -0.847198   \n",
       "4                              -0.486164                       -0.847198   \n",
       "\n",
       "   PaymentMethod_Mailed check  \n",
       "0                    1.943633  \n",
       "1                    1.943633  \n",
       "2                   -0.519526  \n",
       "3                   -0.519526  \n",
       "4                    1.943633  "
      ]
     },
     "execution_count": 212,
     "metadata": {},
     "output_type": "execute_result"
    }
   ],
   "source": [
    "# Scale\n",
    "sc = StandardScaler()\n",
    "X_train = sc.fit_transform(X_train)                 # fit_transform: fit(μ and σ calculation) + transform\n",
    "X_train = pd.DataFrame(X_train, columns=X.columns)\n",
    "X_test = sc.transform(X_test)                   \n",
    "\n",
    "X_train.head()"
   ]
  },
  {
   "cell_type": "code",
   "execution_count": 194,
   "id": "5bf6fe72",
   "metadata": {
    "scrolled": true
   },
   "outputs": [
    {
     "data": {
      "text/plain": [
       "0    4122\n",
       "1    1503\n",
       "Name: Churn, dtype: int64"
      ]
     },
     "execution_count": 194,
     "metadata": {},
     "output_type": "execute_result"
    }
   ],
   "source": [
    "# Dealing with imbalanced data \n",
    "y_train.value_counts()"
   ]
  },
  {
   "cell_type": "code",
   "execution_count": 195,
   "id": "cd18efb3",
   "metadata": {
    "scrolled": true
   },
   "outputs": [
    {
     "data": {
      "text/plain": [
       "0    4122\n",
       "1    4122\n",
       "Name: Churn, dtype: int64"
      ]
     },
     "execution_count": 195,
     "metadata": {},
     "output_type": "execute_result"
    }
   ],
   "source": [
    "X_train, y_train = SMOTE().fit_resample(X_train, y_train)\n",
    "y_train.value_counts()"
   ]
  },
  {
   "cell_type": "code",
   "execution_count": 196,
   "id": "59966b14",
   "metadata": {
    "scrolled": true
   },
   "outputs": [],
   "source": [
    "# Running Random Forest\n",
    "randforest = RandomForestClassifier()\n",
    "randforest.fit(X_train, y_train)\n",
    "randforest_y_predict =randforest.predict(X_test)"
   ]
  },
  {
   "cell_type": "code",
   "execution_count": 197,
   "id": "38343428",
   "metadata": {
    "scrolled": false
   },
   "outputs": [
    {
     "name": "stdout",
     "output_type": "stream",
     "text": [
      "Accuracy: 72.14%\n",
      "Precision: 47.74%\n",
      "Recall: 75.14%\n",
      "F1_Score: 58.39%\n"
     ]
    },
    {
     "data": {
      "text/plain": [
       "[Text(0, 0.5, '0'), Text(0, 1.5, '1')]"
      ]
     },
     "execution_count": 197,
     "metadata": {},
     "output_type": "execute_result"
    },
    {
     "data": {
      "image/png": "[encoded data removed]",
      "text/plain": [
       "<Figure size 720x360 with 2 Axes>"
      ]
     },
     "metadata": {
      "needs_background": "light"
     },
     "output_type": "display_data"
    }
   ],
   "source": [
    "# Random Forest\n",
    "print('Accuracy: %.2f%%' % (accuracy_score(y_test, randforest_y_predict) * 100 ))\n",
    "print('Precision: %.2f%%' % (precision_score(y_test, randforest_y_predict) * 100))\n",
    "print('Recall: %.2f%%' % (recall_score(y_test, randforest_y_predict) * 100))\n",
    "print('F1_Score: %.2f%%' % (f1_score(y_test, randforest_y_predict) * 100))\n",
    "confusion_matrix_rf = confusion_matrix(y_test, randforest_y_predict)\n",
    "plt.figure(figsize=(10,5))\n",
    "ax = plt.subplot()\n",
    "sns.heatmap(confusion_matrix_rf, annot=True, fmt='d', ax = ax)\n",
    "ax.set_xlabel('Predicted Label')\n",
    "ax.set_ylabel('Actual Label')\n",
    "ax.set_title('Confusion Matrix - Random Forest')\n",
    "ax.xaxis.set_ticklabels(['0','1'])\n",
    "ax.yaxis.set_ticklabels(['0','1'])"
   ]
  },
  {
   "cell_type": "markdown",
   "id": "53e9e627",
   "metadata": {},
   "source": [
    "False Positive - Predict that customer will leave, but actually customer is staying\n",
    "\n",
    "False Negative - Predict that customer will stay, but actually customer is leaving\n",
    "\n",
    "Depends on business situation, either one can be more impact to the business goal.\n",
    "In terms of retaining customer, false negative is impacting more to business than false positive. Because, if it is false positive, company will just spend more money to retain customers. For false negative, business thinks that customer will stay but actually leaving. So, losing actual customer is more significantly impactful.\n",
    "\n",
    "In terms of marketing and budget spending, false positive will impact more than false negative. Because, business is predicing that customers are leaving so spending money to retain them, but actually they are staying.\n",
    "\n",
    "In this prediction, we will focus on marketing perspectives (False Negative more than false positive)\n",
    " - Focus on accuracy & Recall"
   ]
  },
  {
   "cell_type": "code",
   "execution_count": 208,
   "id": "9811d71a",
   "metadata": {},
   "outputs": [],
   "source": [
    "# K-NN Model\n",
    "knn_model = KNeighborsClassifier(n_neighbors = 5) \n",
    "knn_model.fit(X_train,y_train)\n",
    "knn_y_predict = knn_model.predict(X_test)"
   ]
  },
  {
   "cell_type": "code",
   "execution_count": 209,
   "id": "229641ab",
   "metadata": {
    "scrolled": false
   },
   "outputs": [
    {
     "name": "stdout",
     "output_type": "stream",
     "text": [
      "Accuracy: 67.45%\n",
      "Precision: 42.68%\n",
      "Recall: 73.22%\n",
      "F1_Score: 53.92%\n"
     ]
    },
    {
     "data": {
      "text/plain": [
       "[Text(0, 0.5, '0'), Text(0, 1.5, '1')]"
      ]
     },
     "execution_count": 209,
     "metadata": {},
     "output_type": "execute_result"
    },
    {
     "data": {
      "image/png": "[encoded data removed]",
      "text/plain": [
       "<Figure size 720x360 with 2 Axes>"
      ]
     },
     "metadata": {
      "needs_background": "light"
     },
     "output_type": "display_data"
    }
   ],
   "source": [
    "print('Accuracy: %.2f%%' % (accuracy_score(y_test, knn_y_predict) * 100 ))\n",
    "print('Precision: %.2f%%' % (precision_score(y_test, knn_y_predict) * 100))\n",
    "print('Recall: %.2f%%' % (recall_score(y_test, knn_y_predict) * 100))\n",
    "print('F1_Score: %.2f%%' % (f1_score(y_test, knn_y_predict) * 100))\n",
    "confusion_matrix_rf = confusion_matrix(y_test, knn_y_predict)\n",
    "plt.figure(figsize=(10,5))\n",
    "ax = plt.subplot()\n",
    "sns.heatmap(confusion_matrix_rf, annot=True, fmt='g', ax = ax)\n",
    "ax.set_xlabel('Predicted Label')\n",
    "ax.set_ylabel('Actual Label')\n",
    "ax.set_title('Confusion Matrix - Random Forest')\n",
    "ax.xaxis.set_ticklabels(['0','1'])\n",
    "ax.yaxis.set_ticklabels(['0','1'])"
   ]
  },
  {
   "cell_type": "code",
   "execution_count": 210,
   "id": "5451ba5f",
   "metadata": {},
   "outputs": [],
   "source": [
    "# SVC Model\n",
    "svc_model = SVC(random_state = 1)\n",
    "svc_model.fit(X_train,y_train)\n",
    "svc_y_predict = svc_model.predict(X_test)"
   ]
  },
  {
   "cell_type": "code",
   "execution_count": 211,
   "id": "56600d95",
   "metadata": {
    "scrolled": false
   },
   "outputs": [
    {
     "name": "stdout",
     "output_type": "stream",
     "text": [
      "Accuracy: 77.33%\n",
      "Precision: 55.10%\n",
      "Recall: 69.40%\n",
      "F1_Score: 61.43%\n"
     ]
    },
    {
     "data": {
      "text/plain": [
       "[Text(0, 0.5, '0'), Text(0, 1.5, '1')]"
      ]
     },
     "execution_count": 211,
     "metadata": {},
     "output_type": "execute_result"
    },
    {
     "data": {
      "image/png": "[encoded data removed]",
      "text/plain": [
       "<Figure size 720x360 with 2 Axes>"
      ]
     },
     "metadata": {
      "needs_background": "light"
     },
     "output_type": "display_data"
    }
   ],
   "source": [
    "print('Accuracy: %.2f%%' % (accuracy_score(y_test, svc_y_predict) * 100 ))\n",
    "print('Precision: %.2f%%' % (precision_score(y_test, svc_y_predict) * 100))\n",
    "print('Recall: %.2f%%' % (recall_score(y_test, svc_y_predict) * 100))\n",
    "print('F1_Score: %.2f%%' % (f1_score(y_test, svc_y_predict) * 100))\n",
    "confusion_matrix_rf = confusion_matrix(y_test, svc_y_predict)\n",
    "plt.figure(figsize=(10,5))\n",
    "ax = plt.subplot()\n",
    "sns.heatmap(confusion_matrix_rf, annot=True, fmt='g', ax = ax)\n",
    "ax.set_xlabel('Predicted Label')\n",
    "ax.set_ylabel('Actual Label')\n",
    "ax.set_title('Confusion Matrix - Random Forest')\n",
    "ax.xaxis.set_ticklabels(['0','1'])\n",
    "ax.yaxis.set_ticklabels(['0','1'])"
   ]
  },
  {
   "cell_type": "code",
   "execution_count": 202,
   "id": "dd6fac35",
   "metadata": {},
   "outputs": [],
   "source": [
    "# Logistic Regression Model\n",
    "lr_model = LogisticRegression()\n",
    "lr_model.fit(X_train,y_train)\n",
    "lr_y_pred= lr_model.predict(X_test)"
   ]
  },
  {
   "cell_type": "code",
   "execution_count": 203,
   "id": "76f60d46",
   "metadata": {},
   "outputs": [
    {
     "name": "stdout",
     "output_type": "stream",
     "text": [
      "Accuracy: 75.20%\n",
      "Precision: 51.40%\n",
      "Recall: 85.25%\n",
      "F1_Score: 64.13%\n"
     ]
    },
    {
     "data": {
      "text/plain": [
       "[Text(0, 0.5, '0'), Text(0, 1.5, '1')]"
      ]
     },
     "execution_count": 203,
     "metadata": {},
     "output_type": "execute_result"
    },
    {
     "data": {
      "image/png": "[encoded data removed]",
      "text/plain": [
       "<Figure size 720x360 with 2 Axes>"
      ]
     },
     "metadata": {
      "needs_background": "light"
     },
     "output_type": "display_data"
    }
   ],
   "source": [
    "print('Accuracy: %.2f%%' % (accuracy_score(y_test, lr_y_pred) * 100 ))\n",
    "print('Precision: %.2f%%' % (precision_score(y_test, lr_y_pred) * 100))\n",
    "print('Recall: %.2f%%' % (recall_score(y_test, lr_y_pred) * 100))\n",
    "print('F1_Score: %.2f%%' % (f1_score(y_test, lr_y_pred) * 100))\n",
    "confusion_matrix_rf = confusion_matrix(y_test, lr_y_pred)\n",
    "plt.figure(figsize=(10,5))\n",
    "ax = plt.subplot()\n",
    "sns.heatmap(confusion_matrix_rf, annot=True, fmt='g', ax = ax)\n",
    "ax.set_xlabel('Predicted Label')\n",
    "ax.set_ylabel('Actual Label')\n",
    "ax.set_title('Confusion Matrix - Random Forest')\n",
    "ax.xaxis.set_ticklabels(['0','1'])\n",
    "ax.yaxis.set_ticklabels(['0','1'])"
   ]
  },
  {
   "cell_type": "markdown",
   "id": "535d0263",
   "metadata": {},
   "source": [
    "Comparing RandomForest, KNN, SVC, Logistic, Logistic has relatively higher accuracy and recall."
   ]
  },
  {
   "cell_type": "code",
   "execution_count": 204,
   "id": "fdac63a2",
   "metadata": {
    "scrolled": true
   },
   "outputs": [
    {
     "data": {
      "text/plain": [
       "<AxesSubplot:>"
      ]
     },
     "execution_count": 204,
     "metadata": {},
     "output_type": "execute_result"
    },
    {
     "data": {
      "image/png": "[encoded data removed]",
      "text/plain": [
       "<Figure size 432x288 with 1 Axes>"
      ]
     },
     "metadata": {
      "needs_background": "light"
     },
     "output_type": "display_data"
    }
   ],
   "source": [
    "# Top 10 variables that affect customers to churn\n",
    "importance = pd.Series(lr_model.coef_[0],\n",
    "                 index=X.columns.values)\n",
    "importance.sort_values()[-10:].plot(kind = 'barh')"
   ]
  },
  {
   "cell_type": "code",
   "execution_count": 205,
   "id": "00bfba6e",
   "metadata": {
    "scrolled": true
   },
   "outputs": [
    {
     "data": {
      "text/plain": [
       "<AxesSubplot:>"
      ]
     },
     "execution_count": 205,
     "metadata": {},
     "output_type": "execute_result"
    },
    {
     "data": {
      "image/png": "[encoded data removed]",
      "text/plain": [
       "<Figure size 432x288 with 1 Axes>"
      ]
     },
     "metadata": {
      "needs_background": "light"
     },
     "output_type": "display_data"
    }
   ],
   "source": [
    "# Top 10 variables that affect negatively for customers to churn\n",
    "importance.sort_values(ascending = False)[-10:].plot(kind='barh')"
   ]
  },
  {
   "cell_type": "markdown",
   "id": "ec6367a7",
   "metadata": {},
   "source": [
    "### Future Improvement\n",
    "From this project, we would be able to build a predictive model using logistic regression model to predict customers to churn based on number of different variables. With our model, we have 75.20% of accuracy rate of predicting customers who would churn, and has 51.4% for precision and 85.25% for recall. Although it has reasonably good performing model, there are still rooms for improvement.\n",
    "- Further develop with feature engineering to remove / add features to improve the performance.\n",
    "- More parameter tuning for each models. E.g. in random forest, we can tune more number of trees. With various parameter tuning, there can be other models that may perform better."
   ]
  },
  {
   "cell_type": "code",
   "execution_count": null,
   "id": "7d5a5319",
   "metadata": {},
   "outputs": [],
   "source": []
  }
 ],
 "metadata": {
  "kernelspec": {
   "display_name": "Python 3 (ipykernel)",
   "language": "python",
   "name": "python3"
  },
  "language_info": {
   "codemirror_mode": {
    "name": "ipython",
    "version": 3
   },
   "file_extension": ".py",
   "mimetype": "text/x-python",
   "name": "python",
   "nbconvert_exporter": "python",
   "pygments_lexer": "ipython3",
   "version": "3.9.7"
  }
 },
 "nbformat": 4,
 "nbformat_minor": 5
}
